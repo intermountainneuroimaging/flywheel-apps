{
 "cells": [
  {
   "cell_type": "markdown",
   "metadata": {},
   "source": [
    "# Run BIDS fMRIPrep App on a Flywheel Instance"
   ]
  },
  {
   "cell_type": "code",
   "execution_count": 1,
   "metadata": {},
   "outputs": [
    {
     "data": {
      "text/plain": [
       "'https://ss.ce.flywheel.io/api'"
      ]
     },
     "execution_count": 1,
     "metadata": {},
     "output_type": "execute_result"
    }
   ],
   "source": [
    "from datetime import datetime\n",
    "import flywheel\n",
    "fw = flywheel.Client('')\n",
    "fw.get_config().site.api_url"
   ]
  },
  {
   "cell_type": "code",
   "execution_count": 2,
   "metadata": {
    "collapsed": false,
    "jupyter": {
     "outputs_hidden": false
    },
    "pycharm": {
     "name": "#%%\n"
    }
   },
   "outputs": [
    {
     "data": {
      "text/plain": [
       "'1.1.17_20.2.1'"
      ]
     },
     "execution_count": 2,
     "metadata": {},
     "output_type": "execute_result"
    }
   ],
   "source": [
    "gear = fw.lookup('gears/bids-fmriprep')\n",
    "gear.gear.version"
   ]
  },
  {
   "cell_type": "code",
   "execution_count": 3,
   "metadata": {},
   "outputs": [
    {
     "data": {
      "text/plain": [
       "'sub-TOME3024'"
      ]
     },
     "execution_count": 3,
     "metadata": {},
     "output_type": "execute_result"
    }
   ],
   "source": [
    "# Got number from UI\n",
    "subject = fw.get_subject('5dc091c269d4f3002d16f334')\n",
    "subject.label"
   ]
  },
  {
   "cell_type": "code",
   "execution_count": 22,
   "metadata": {},
   "outputs": [],
   "source": [
    "def show_job_info(analysis_id):\n",
    "    now = datetime.now()\n",
    "    print(f'{now.strftime(\"%m-%d-%Y %H:%M:%S\")}')\n",
    "    print(f'analysis_id = {analysis_id}')\n",
    "    analysis = fw.get_analysis(analysis_id)\n",
    "    print(f'analysis.label = {analysis.label}')\n",
    "    job_id = analysis.job.id\n",
    "    print(f'job_id = {job_id}')\n",
    "    job = fw.get_job(job_id)\n",
    "    print(f'job.gear_info = {job.gear_info}')\n",
    "    print(f'job.state = {job.state}')\n",
    "    print(f'job.transitions = {job.transitions}')"
   ]
  },
  {
   "cell_type": "code",
   "execution_count": 25,
   "metadata": {},
   "outputs": [],
   "source": [
    "inputs = {}\n",
    "\n",
    "config = {\n",
    "  \"skip-bids-validation\": False,\n",
    "  \"task-id\": \"\",\n",
    "  \"echo-idx\": \"\",\n",
    "  \"n_cpus\": 0,\n",
    "  \"mem_mb\": 0,\n",
    "  \"anat-only\": False,\n",
    "  \"boilerplate\": False,\n",
    "  \"md-only-boilerplate\": False,\n",
    "  \"error-on-aroma-warnings\": False,\n",
    "  \"verbose\": \"\",\n",
    "  \"ignore\": \"fieldmaps slicetiming\",\n",
    "  \"longitudinal\": True,\n",
    "  \"t2s-coreg\": False,\n",
    "  \"output-spaces\": \"MNI152NLin2009cAsym anat\",\n",
    "  \"bold2t1w-dof\": 6,\n",
    "  \"force-bbr\": False,\n",
    "  \"force-no-bbr\": False,\n",
    "  \"medial-surface-nan\": False,\n",
    "  \"dummy-scans\": 0,\n",
    "  \"use-aroma\": True,\n",
    "  \"aroma-melodic-dimensionality\": -200,\n",
    "  \"return-all-components\": False,\n",
    "  \"fd-spike-threshold\": 0.5,\n",
    "  \"dvars-spike-threshold\": 1.5,\n",
    "  \"skull-strip-template\": \"OASIS30ANTs\",\n",
    "  \"skull-strip-fixed-seed\": False,\n",
    "  \"fmap-bspline\": False,\n",
    "  \"fmap-no-demean\": False,\n",
    "  \"use-syn-sdc\": True,\n",
    "  \"force-syn\": False,\n",
    "  \"no-submm-recon\": False,\n",
    "  \"cifti-output\": False,\n",
    "  \"fs-no-reconall\": False,\n",
    "  \"resource-monitor\": False,\n",
    "  \"reports-only\": False,\n",
    "  \"run-uuid\": \"\",\n",
    "  \"write-graph\": False,\n",
    "  \"stop-on-first-crash\": False,\n",
    "  \"notrack\": False,\n",
    "  \"gear-abort-on-bids-error\": False,\n",
    "  \"gear-log-level\": \"DEBUG\",\n",
    "  \"gear-run-bids-validation\": True,\n",
    "  \"gear-save-intermediate-output\": False,\n",
    "  \"gear-intermediate-files\": \"\",\n",
    "  \"gear-intermediate-folders\": \"\",\n",
    "  \"gear-dry-run\": False,\n",
    "  \"gear-keep-output\": False,\n",
    "  \"gear-keep-fsaverage\": False,\n",
    "  \"gear-FREESURFER_LICENSE\": \"\"\n",
    "}\n",
    "\n",
    "now = datetime.now()\n",
    "analysis_label = f'{gear.gear.name} {now.strftime(\"%m-%d-%Y %H:%M:%S\")} SDK launched, wet run'\n",
    "\n",
    "analysis_id = gear.run(analysis_label=analysis_label, config=config, inputs=inputs, destination=subject)"
   ]
  },
  {
   "cell_type": "code",
   "execution_count": 27,
   "metadata": {},
   "outputs": [
    {
     "name": "stdout",
     "output_type": "stream",
     "text": [
      "05-18-2020 16:05:18\n",
      "analysis_id = 5ec2ea57bfda5103356aa112\n",
      "analysis.label = bids-fmriprep 05-18-2020 16:04:39 SDK launched, wet run\n",
      "job_id = 5ec2ea57bfda5103356aa113\n",
      "job.gear_info = {'category': 'analysis',\n",
      " 'id': None,\n",
      " 'name': 'bids-fmriprep',\n",
      " 'version': '1.0.12_1.5.10'}\n",
      "job.state = pending\n",
      "job.transitions = {'cancelled': None, 'complete': None, 'failed': None, 'running': None}\n"
     ]
    }
   ],
   "source": [
    "show_job_info(analysis_id)"
   ]
  },
  {
   "cell_type": "code",
   "execution_count": 28,
   "metadata": {},
   "outputs": [
    {
     "name": "stdout",
     "output_type": "stream",
     "text": [
      "05-18-2020 16:07:13\n",
      "analysis_id = 5ec2ea57bfda5103356aa112\n",
      "analysis.label = bids-fmriprep 05-18-2020 16:04:39 SDK launched, wet run\n",
      "job_id = 5ec2ea57bfda5103356aa113\n",
      "job.gear_info = {'category': 'analysis',\n",
      " 'id': None,\n",
      " 'name': 'bids-fmriprep',\n",
      " 'version': '1.0.12_1.5.10'}\n",
      "job.state = running\n",
      "job.transitions = {'cancelled': None,\n",
      " 'complete': None,\n",
      " 'failed': None,\n",
      " 'running': datetime.datetime(2020, 5, 18, 20, 6, 29, 150000, tzinfo=tzutc())}\n"
     ]
    }
   ],
   "source": [
    "show_job_info(analysis_id)"
   ]
  },
  {
   "cell_type": "code",
   "execution_count": 29,
   "metadata": {},
   "outputs": [
    {
     "name": "stdout",
     "output_type": "stream",
     "text": [
      "05-18-2020 16:29:00\n",
      "analysis_id = 5ec2ea57bfda5103356aa112\n",
      "analysis.label = bids-fmriprep 05-18-2020 16:04:39 SDK launched, wet run\n",
      "job_id = 5ec2ea57bfda5103356aa113\n",
      "job.gear_info = {'category': 'analysis',\n",
      " 'id': None,\n",
      " 'name': 'bids-fmriprep',\n",
      " 'version': '1.0.12_1.5.10'}\n",
      "job.state = running\n",
      "job.transitions = {'cancelled': None,\n",
      " 'complete': None,\n",
      " 'failed': None,\n",
      " 'running': datetime.datetime(2020, 5, 18, 20, 6, 29, 150000, tzinfo=tzutc())}\n"
     ]
    }
   ],
   "source": [
    "show_job_info(analysis_id)"
   ]
  },
  {
   "cell_type": "code",
   "execution_count": 30,
   "metadata": {},
   "outputs": [
    {
     "name": "stdout",
     "output_type": "stream",
     "text": [
      "05-20-2020 15:54:09\n",
      "analysis_id = 5ec2ea57bfda5103356aa112\n",
      "analysis.label = bids-fmriprep 05-18-2020 16:04:39 SDK launched, wet run\n",
      "job_id = 5ec2ea57bfda5103356aa113\n",
      "job.gear_info = {'category': 'analysis',\n",
      " 'id': None,\n",
      " 'name': 'bids-fmriprep',\n",
      " 'version': '1.0.12_1.5.10'}\n",
      "job.state = complete\n",
      "job.transitions = {'cancelled': None,\n",
      " 'complete': datetime.datetime(2020, 5, 19, 14, 17, 50, 872000, tzinfo=tzutc()),\n",
      " 'failed': None,\n",
      " 'running': datetime.datetime(2020, 5, 18, 20, 6, 29, 150000, tzinfo=tzutc())}\n"
     ]
    }
   ],
   "source": [
    "show_job_info(analysis_id)"
   ]
  }
 ],
 "metadata": {
  "kernelspec": {
   "display_name": "Python 3",
   "language": "python",
   "name": "python3"
  },
  "language_info": {
   "codemirror_mode": {
    "name": "ipython",
    "version": 3
   },
   "file_extension": ".py",
   "mimetype": "text/x-python",
   "name": "python",
   "nbconvert_exporter": "python",
   "pygments_lexer": "ipython3",
   "version": "3.9.0"
  }
 },
 "nbformat": 4,
 "nbformat_minor": 4
}
